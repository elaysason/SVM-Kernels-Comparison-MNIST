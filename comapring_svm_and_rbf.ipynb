{
  "nbformat": 4,
  "nbformat_minor": 0,
  "metadata": {
    "colab": {
      "name": "Untitled1.ipynb",
      "provenance": []
    },
    "kernelspec": {
      "name": "python3",
      "display_name": "Python 3"
    },
    "language_info": {
      "name": "python"
    }
  },
  "cells": [
    {
      "cell_type": "code",
      "metadata": {
        "id": "OuLoUQmHvPPo"
      },
      "source": [
        "import matplotlib.pyplot as plt\n",
        "import numpy as np\n",
        "import pandas as pd\n",
        "\n",
        "np.random.seed(42)\n",
        "from sklearn.datasets import fetch_openml\n",
        "from sklearn import svm\n",
        "from sklearn.svm import SVC\n",
        "from sklearn.model_selection import train_test_split\n",
        "\n",
        "\n",
        "def cross_validation_error(X, y, model, folds):\n",
        "    average_train_error = []\n",
        "    average_val_error = []\n",
        "    X_folds = np.array_split(X, folds)\n",
        "    start_fold = 0\n",
        "\n",
        "    for i in range(folds):\n",
        "        len_fold = X_folds[i].shape[0]\n",
        "        y_train = y.iloc[[X.index[k] not in list(X_folds[i].index[np.arange(0, len_fold)]) for k in range(X.shape[0])]]\n",
        "        y_test = [y[X_folds[i].index[j]] for j in range(start_fold, len_fold)]\n",
        "        train = X.iloc[[X.index[k] not in list(X_folds[i].index[np.arange(0, len_fold)]) for k in range(X.shape[0])]]\n",
        "        test = X_folds[i]\n",
        "        model.fit(train, y_train)\n",
        "        count = 0\n",
        "        for i in train.index:\n",
        "            item = train[train.index == i]\n",
        "            predicted = model.predict(item)\n",
        "            if predicted != y_train[i]:\n",
        "                count += 1\n",
        "        average_train_error.append(count / train.shape[0])\n",
        "        count = 0\n",
        "        for i in test.index:\n",
        "            item = test[test.index == i]\n",
        "            predicted = model.predict(item)\n",
        "            if list(y[y.index == i] != predicted)[0]:\n",
        "                count += 1\n",
        "        average_val_error.append(count / len(test))\n",
        "        start_fold += len_fold\n",
        "    return np.average(average_train_error), np.average(average_val_error)\n",
        "\n",
        "def fetch_mnist():\n",
        "    # Download MNIST dataset\n",
        "    X, y = fetch_openml('mnist_784', version=1, return_X_y=True,as_frame=True)\n",
        "    # Randomly sample 8000 images\n",
        "    np.random.seed(2)\n",
        "    indices = np.random.choice(len(X), 8000, replace=False)\n",
        "    X, y = X.iloc[indices], y.iloc[indices]\n",
        "    return X, y\n",
        "\n",
        "def SVM_results(X_train, y_train, X_test, y_test):\n",
        "    ## Making a list of all the models\n",
        "    svcs = [svm.SVC(kernel='linear')]\n",
        "    values_poly = [2, 4, 6, 8, 10]\n",
        "    for value in values_poly:\n",
        "        svcs.append(svm.SVC(kernel='poly', degree=value))\n",
        "    value_rbf = [0.001, 0.01, 0.1, 1.0, 10]\n",
        "    for value in value_rbf:\n",
        "        svcs.append(svm.SVC(kernel='rbf', gamma=value))\n",
        "    models_dict = {}\n",
        "\n",
        "    ## Calulating  avg tarin, valdition and test errors\n",
        "    for svc in svcs:\n",
        "        ## Calulating train and valdition error\n",
        "        train_error,vald_error = cross_validation_error(X_train, y_train,svc,5)\n",
        "        kernel = svc.get_params()['kernel']\n",
        "        \n",
        "        ## Calulating test error\n",
        "        prediction = svc.predict(X_test)\n",
        "        count = 0\n",
        "        for i in range(len(prediction)):\n",
        "            if list(y_test[y_test.index == y_test.index[i]] != prediction[i])[0]:\n",
        "                count += 1\n",
        "        error = count / len(prediction)\n",
        "        \n",
        "        # Deciding model name\n",
        "        model_name = 'SVM_' + kernel\n",
        "        if kernel != 'linear':\n",
        "            if kernel == 'rbf':\n",
        "                model_name += '_' + str(svc.get_params()['gamma'])\n",
        "            else:\n",
        "                model_name += '_' + str(svc.get_params()['degree'])\n",
        "        models_dict[model_name] = (train_error,vald_error, error)\n",
        "    return models_dict"
      ],
      "execution_count": 1,
      "outputs": []
    },
    {
      "cell_type": "code",
      "metadata": {
        "id": "6HhSPf6bvquG"
      },
      "source": [
        "X, y = fetch_mnist()\n",
        "X_train, X_test, y_train, y_test = train_test_split(X, y, test_size=0.2, random_state=42)"
      ],
      "execution_count": 2,
      "outputs": []
    },
    {
      "cell_type": "code",
      "metadata": {
        "colab": {
          "base_uri": "https://localhost:8080/"
        },
        "id": "llPrF1MnxQXo",
        "outputId": "203171df-78b5-4d6a-8db9-2aef28a91df8"
      },
      "source": [
        "dict = SVM_results(X_train, y_train, X_test, y_test)\n",
        "print(dict)"
      ],
      "execution_count": null,
      "outputs": [
        {
          "output_type": "stream",
          "text": [
            "{'SVM_linear': (0.0, 0.08875, 0.088125), 'SVM_poly_2': (0.017812500000000002, 0.052812500000000005, 0.05625), 'SVM_poly_4': (0.027773437499999998, 0.08499999999999999, 0.09375), 'SVM_poly_6': (0.09363281250000002, 0.185, 0.188125), 'SVM_poly_8': (0.15675781249999998, 0.2940625, 0.293125), 'SVM_poly_10': (0.2004296875, 0.37203125, 0.36125), 'SVM_rbf_0.001': (0.0, 0.8885937499999998, 0.898125), 'SVM_rbf_0.01': (0.0, 0.8885937499999998, 0.898125), 'SVM_rbf_0.1': (0.0, 0.8885937499999998, 0.898125), 'SVM_rbf_1.0': (0.0, 0.8885937499999998, 0.898125), 'SVM_rbf_10': (0.0, 0.8885937499999998, 0.898125)}\n"
          ],
          "name": "stdout"
        }
      ]
    },
    {
      "cell_type": "code",
      "metadata": {
        "colab": {
          "base_uri": "https://localhost:8080/",
          "height": 348
        },
        "id": "3zoTZrhqK02n",
        "outputId": "98d0015a-68ee-43fd-d1aa-7c0af7bc3140"
      },
      "source": [
        "barWidth = 0.25\n",
        "fig = plt.figure()\n",
        "\n",
        "# set height of bar\n",
        "train_error = [dict[key][0] for key in dict.keys()]\n",
        "valdiotion_error = [dict[key][1] for key in dict.keys()]\n",
        "test_error = [dict[key][2] for key in dict.keys()]\n",
        "\n",
        "# Set position of bar on X axis\n",
        "br1 = np.arange(len(train_error))\n",
        "br2 = [x + barWidth for x in br1]\n",
        "br3 = [x + barWidth for x in br2]\n",
        "\n",
        "# Make the plot\n",
        "plt.bar(br1, train_error, color='r', width=barWidth,\n",
        "        edgecolor='grey', label='average train error')\n",
        "plt.bar(br2, valdiotion_error, color='g', width=barWidth,\n",
        "        edgecolor='grey', label='average validation error')\n",
        "plt.bar(br3, test_error, color='b', width=barWidth,\n",
        "        edgecolor='grey', label='average test error')\n",
        "\n",
        "# Adding Xticks\n",
        "plt.xlabel('Model', fontweight='bold', fontsize=15)\n",
        "plt.ylabel('Error', fontweight='bold', fontsize=15)\n",
        "plt.xticks([r + barWidth for r in range(len(train_error))],\n",
        "           [str(model) for model in dict.keys()])\n",
        "plt.xticks(rotation=90)\n",
        "plt.legend()\n",
        "plt.show()\n",
        "\n"
      ],
      "execution_count": null,
      "outputs": [
        {
          "output_type": "display_data",
          "data": {
            "image/png": "[encoded data removed]",
            "text/plain": [
              "<Figure size 432x288 with 1 Axes>"
            ]
          },
          "metadata": {
            "tags": [],
            "needs_background": "light"
          }
        }
      ]
    }
  ]
}